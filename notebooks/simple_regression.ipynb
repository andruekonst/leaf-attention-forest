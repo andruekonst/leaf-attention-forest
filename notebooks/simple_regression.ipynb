{
 "cells": [
  {
   "cell_type": "code",
   "execution_count": 1,
   "metadata": {},
   "outputs": [],
   "source": [
    "from sklearn.datasets import make_friedman1\n",
    "from sklearn.model_selection import train_test_split\n",
    "from sklearn.metrics import r2_score"
   ]
  },
  {
   "cell_type": "code",
   "execution_count": 2,
   "metadata": {},
   "outputs": [],
   "source": [
    "from leaf_att_forest import (\n",
    "    GLAFParams,\n",
    "    GammaLeafAttentionForest,\n",
    "    ForestKind,\n",
    "    TaskType,\n",
    ")"
   ]
  },
  {
   "cell_type": "code",
   "execution_count": 3,
   "metadata": {},
   "outputs": [],
   "source": [
    "data = make_friedman1(200, random_state=12345)\n",
    "X_train, X_test, y_train, y_test = train_test_split(*data, test_size=0.5, random_state=12345)"
   ]
  },
  {
   "cell_type": "code",
   "execution_count": 4,
   "metadata": {},
   "outputs": [],
   "source": [
    "model = GammaLeafAttentionForest(\n",
    "    GLAFParams(\n",
    "        kind=ForestKind.EXTRA,\n",
    "        task=TaskType.REGRESSION,\n",
    "        leaf_tau=1.0,\n",
    "        leaf_attention=True,\n",
    "        n_tau=5,\n",
    "        fit_tree_weights=True,\n",
    "        forest=dict(\n",
    "            n_estimators=200,\n",
    "            max_depth=None,\n",
    "            min_samples_leaf=5,\n",
    "            random_state=12345,\n",
    "        ),\n",
    "    )\n",
    ")"
   ]
  },
  {
   "cell_type": "code",
   "execution_count": 5,
   "metadata": {},
   "outputs": [],
   "source": [
    "model.fit(X_train, y_train)"
   ]
  },
  {
   "cell_type": "code",
   "execution_count": 6,
   "metadata": {},
   "outputs": [
    {
     "data": {
      "text/plain": [
       "<leaf_att_forest.model.GammaLeafAttentionForest at 0x13b42aa00>"
      ]
     },
     "execution_count": 6,
     "metadata": {},
     "output_type": "execute_result"
    }
   ],
   "source": [
    "model.optimize_weights(X_train, y_train)"
   ]
  },
  {
   "cell_type": "code",
   "execution_count": 7,
   "metadata": {},
   "outputs": [],
   "source": [
    "results = {\n",
    "    \"Original R2\": r2_score(y_test, model.predict_original(X_test)),\n",
    "    \"After optimization R2\": r2_score(y_test, model.predict(X_test)),\n",
    "}"
   ]
  },
  {
   "cell_type": "code",
   "execution_count": 8,
   "metadata": {},
   "outputs": [
    {
     "name": "stdout",
     "output_type": "stream",
     "text": [
      "              Original R2: 0.6943020209481943\n",
      "    After optimization R2: 0.7518957945224737\n"
     ]
    }
   ],
   "source": [
    "print('\\n'.join(map(lambda x: f'{x[0]:>25}: {x[1]}', results.items())))"
   ]
  }
 ],
 "metadata": {
  "interpreter": {
   "hash": "99d6191540dadc38eb4359aeeb537ce32f7e44aa5d3b915c02f0967d21ccbc4b"
  },
  "kernelspec": {
   "display_name": "Python 3.9.7 ('attention-forest')",
   "language": "python",
   "name": "python3"
  },
  "language_info": {
   "codemirror_mode": {
    "name": "ipython",
    "version": 3
   },
   "file_extension": ".py",
   "mimetype": "text/x-python",
   "name": "python",
   "nbconvert_exporter": "python",
   "pygments_lexer": "ipython3",
   "version": "3.9.7"
  },
  "orig_nbformat": 4
 },
 "nbformat": 4,
 "nbformat_minor": 2
}
