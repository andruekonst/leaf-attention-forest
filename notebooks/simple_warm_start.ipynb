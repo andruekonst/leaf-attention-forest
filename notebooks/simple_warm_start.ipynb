{
 "cells": [
  {
   "cell_type": "code",
   "execution_count": 1,
   "metadata": {},
   "outputs": [],
   "source": [
    "import numpy as np\n",
    "from matplotlib import pyplot as plt\n",
    "from sklearn.model_selection import train_test_split\n",
    "from sklearn.metrics import r2_score"
   ]
  },
  {
   "cell_type": "code",
   "execution_count": 2,
   "metadata": {},
   "outputs": [],
   "source": [
    "from leaf_att_forest import (\n",
    "    GLAFParams,\n",
    "    GammaLeafAttentionForest,\n",
    "    ForestKind,\n",
    "    TaskType,\n",
    ")"
   ]
  },
  {
   "cell_type": "code",
   "execution_count": 3,
   "metadata": {},
   "outputs": [],
   "source": [
    "n = 100\n",
    "rng = np.random.RandomState(12345)\n",
    "\n",
    "first_cov = np.array([\n",
    "    [1.0, 0.5],\n",
    "    [0.5, 1.0],\n",
    "])\n",
    "first_gaussian = rng.multivariate_normal(np.zeros(2), first_cov, size=n)\n",
    "\n",
    "second_mean = np.array([0.1, 0.0])\n",
    "second_cov = first_cov\n",
    "second_gaussian = rng.multivariate_normal(second_mean, second_cov, size=n)"
   ]
  },
  {
   "cell_type": "code",
   "execution_count": 4,
   "metadata": {},
   "outputs": [
    {
     "data": {
      "text/plain": [
       "(-2.719921302291827,\n",
       " 3.254631815729617,\n",
       " -3.6321430984597924,\n",
       " 3.1408069663877276)"
      ]
     },
     "execution_count": 4,
     "metadata": {},
     "output_type": "execute_result"
    },
    {
     "data": {
      "image/png": "[encoded data removed]",
      "text/plain": [
       "<Figure size 432x288 with 1 Axes>"
      ]
     },
     "metadata": {
      "needs_background": "light"
     },
     "output_type": "display_data"
    }
   ],
   "source": [
    "plt.scatter(first_gaussian[:, 0], first_gaussian[:, 1], label='first')\n",
    "plt.scatter(second_gaussian[:, 0], second_gaussian[:, 1], label='second')\n",
    "plt.legend()\n",
    "plt.axis('equal')"
   ]
  },
  {
   "cell_type": "code",
   "execution_count": 5,
   "metadata": {},
   "outputs": [],
   "source": [
    "first_y = first_gaussian.sum(axis=1) + rng.normal(0, 0.1, size=(n,))\n",
    "second_y = second_gaussian.sum(axis=1) + rng.normal(0, 0.1, size=(n,))\n",
    "\n",
    "X_first_train, X_first_test, y_first_train, y_first_test = train_test_split(\n",
    "    first_gaussian, first_y,\n",
    "    test_size=0.5,\n",
    "    random_state=12345\n",
    ")\n",
    "\n",
    "X_second_train, X_second_test, y_second_train, y_second_test = train_test_split(\n",
    "    second_gaussian, second_y,\n",
    "    test_size=0.5,\n",
    "    random_state=12345\n",
    ")\n",
    "\n",
    "X_all_train = np.concatenate((X_first_train, X_second_train), axis=0)\n",
    "y_all_train = np.concatenate((y_first_train, y_second_train), axis=0)\n",
    "X_all_test = np.concatenate((X_first_test, X_second_test), axis=0)\n",
    "y_all_test = np.concatenate((y_first_test, y_second_test), axis=0)"
   ]
  },
  {
   "cell_type": "code",
   "execution_count": 6,
   "metadata": {},
   "outputs": [],
   "source": [
    "model = GammaLeafAttentionForest(\n",
    "    GLAFParams(\n",
    "        kind=ForestKind.EXTRA,\n",
    "        task=TaskType.REGRESSION,\n",
    "        leaf_tau=1.0,\n",
    "        leaf_attention=True,\n",
    "        n_tau=35,\n",
    "        fit_tree_weights=True,\n",
    "        forest=dict(\n",
    "            n_estimators=200,\n",
    "            max_depth=None,\n",
    "            min_samples_leaf=5,\n",
    "            random_state=12345,\n",
    "        ),\n",
    "    )\n",
    ")"
   ]
  },
  {
   "cell_type": "code",
   "execution_count": 7,
   "metadata": {},
   "outputs": [],
   "source": [
    "model.fit(X_first_train, y_first_train)"
   ]
  },
  {
   "cell_type": "code",
   "execution_count": 8,
   "metadata": {},
   "outputs": [
    {
     "data": {
      "text/plain": [
       "<leaf_att_forest.model.GammaLeafAttentionForest at 0x146d5f190>"
      ]
     },
     "execution_count": 8,
     "metadata": {},
     "output_type": "execute_result"
    }
   ],
   "source": [
    "model.optimize_weights(X_first_train, y_first_train)"
   ]
  },
  {
   "cell_type": "code",
   "execution_count": 9,
   "metadata": {},
   "outputs": [],
   "source": [
    "results = {\n",
    "    \"Original (T=first) R2\": r2_score(y_all_test, model.predict_original(X_all_test)),\n",
    "    \"Optimized (T=first, O=first) R2\": r2_score(y_all_test, model.predict(X_all_test)),\n",
    "}"
   ]
  },
  {
   "cell_type": "code",
   "execution_count": 10,
   "metadata": {},
   "outputs": [
    {
     "data": {
      "text/plain": [
       "<leaf_att_forest.model.GammaLeafAttentionForest at 0x146d5f190>"
      ]
     },
     "execution_count": 10,
     "metadata": {},
     "output_type": "execute_result"
    }
   ],
   "source": [
    "model.optimize_weights(X_second_train, y_second_train)"
   ]
  },
  {
   "cell_type": "code",
   "execution_count": 11,
   "metadata": {},
   "outputs": [],
   "source": [
    "results.update({\n",
    "    \"Optimized (T=first, O=second) R2\": r2_score(y_all_test, model.predict(X_all_test)),\n",
    "})"
   ]
  },
  {
   "cell_type": "code",
   "execution_count": 12,
   "metadata": {},
   "outputs": [
    {
     "data": {
      "text/plain": [
       "<leaf_att_forest.model.GammaLeafAttentionForest at 0x146d5f190>"
      ]
     },
     "execution_count": 12,
     "metadata": {},
     "output_type": "execute_result"
    }
   ],
   "source": [
    "model.optimize_weights(X_all_train, y_all_train)"
   ]
  },
  {
   "cell_type": "code",
   "execution_count": 13,
   "metadata": {},
   "outputs": [],
   "source": [
    "results.update({\n",
    "    \"Optimized (T=first, O=first+second) R2\": r2_score(y_all_test, model.predict(X_all_test)),\n",
    "})"
   ]
  },
  {
   "cell_type": "code",
   "execution_count": 14,
   "metadata": {},
   "outputs": [],
   "source": [
    "model.fit(X_all_train, y_all_train)"
   ]
  },
  {
   "cell_type": "code",
   "execution_count": 15,
   "metadata": {},
   "outputs": [],
   "source": [
    "results.update({\n",
    "    \"Original (T=first+second) R2\": r2_score(y_all_test, model.predict_original(X_all_test)),\n",
    "})"
   ]
  },
  {
   "cell_type": "code",
   "execution_count": 16,
   "metadata": {},
   "outputs": [
    {
     "data": {
      "text/plain": [
       "<leaf_att_forest.model.GammaLeafAttentionForest at 0x146d5f190>"
      ]
     },
     "execution_count": 16,
     "metadata": {},
     "output_type": "execute_result"
    }
   ],
   "source": [
    "model.optimize_weights(X_all_train, y_all_train)"
   ]
  },
  {
   "cell_type": "code",
   "execution_count": 17,
   "metadata": {},
   "outputs": [],
   "source": [
    "results.update({\n",
    "    \"Optimized (T,O=first+second) R2\": r2_score(y_all_test, model.predict(X_all_test)),\n",
    "})"
   ]
  },
  {
   "cell_type": "code",
   "execution_count": 18,
   "metadata": {},
   "outputs": [
    {
     "name": "stdout",
     "output_type": "stream",
     "text": [
      "T = dataset for tree fit;\n",
      "O = dataset for weights optimization;\n",
      "==================================================\n",
      "                   Original (T=first) R2: 0.658\n",
      "         Optimized (T=first, O=first) R2: 0.961\n",
      "        Optimized (T=first, O=second) R2: 0.972\n",
      "  Optimized (T=first, O=first+second) R2: 0.974\n",
      "            Original (T=first+second) R2: 0.886\n",
      "         Optimized (T,O=first+second) R2: 0.990\n"
     ]
    }
   ],
   "source": [
    "print(\"T = dataset for tree fit;\")\n",
    "print(\"O = dataset for weights optimization;\")\n",
    "print('=' * 50)\n",
    "print('\\n'.join(map(lambda x: f'{x[0]:>40}: {x[1]:.3f}', results.items())))"
   ]
  }
 ],
 "metadata": {
  "interpreter": {
   "hash": "99d6191540dadc38eb4359aeeb537ce32f7e44aa5d3b915c02f0967d21ccbc4b"
  },
  "kernelspec": {
   "display_name": "Python 3.9.7 ('attention-forest')",
   "language": "python",
   "name": "python3"
  },
  "language_info": {
   "codemirror_mode": {
    "name": "ipython",
    "version": 3
   },
   "file_extension": ".py",
   "mimetype": "text/x-python",
   "name": "python",
   "nbconvert_exporter": "python",
   "pygments_lexer": "ipython3",
   "version": "3.9.7"
  },
  "orig_nbformat": 4
 },
 "nbformat": 4,
 "nbformat_minor": 2
}
